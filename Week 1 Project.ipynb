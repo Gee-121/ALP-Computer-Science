{
  "nbformat": 4,
  "nbformat_minor": 0,
  "metadata": {
    "colab": {
      "provenance": [],
      "authorship_tag": "ABX9TyNiSnq81RoD57Y1Bxh0rxdW",
      "include_colab_link": true
    },
    "kernelspec": {
      "name": "python3",
      "display_name": "Python 3"
    },
    "language_info": {
      "name": "python"
    }
  },
  "cells": [
    {
      "cell_type": "markdown",
      "metadata": {
        "id": "view-in-github",
        "colab_type": "text"
      },
      "source": [
        "<a href=\"https://colab.research.google.com/github/Gee-121/ALP-Computer-Science/blob/main/Week%201%20Project.ipynb\" target=\"_parent\"><img src=\"https://colab.research.google.com/assets/colab-badge.svg\" alt=\"Open In Colab\"/></a>"
      ]
    },
    {
      "cell_type": "markdown",
      "source": [
        "#Number Guessing Game"
      ],
      "metadata": {
        "id": "LoUwy3YoaIJs"
      }
    },
    {
      "cell_type": "code",
      "execution_count": null,
      "metadata": {
        "colab": {
          "base_uri": "https://localhost:8080/"
        },
        "id": "yXmU-MJMaCMj",
        "outputId": "6ec65a01-26a8-4022-fc80-f06d2fef1c3f"
      },
      "outputs": [
        {
          "output_type": "stream",
          "name": "stdout",
          "text": [
            "guess a number 1-100: 50\n",
            "too high. try again: 25\n",
            "too low. try again: 30\n",
            "too low. try again: 28\n",
            "too low. try again: 29\n",
            "too low. try again: 35\n",
            "too low. try again: 45\n",
            "too high. try again: 40\n",
            "too low. try again: 43\n",
            "The number was:  43\n",
            "you guessed correctly. hooray.\n"
          ]
        }
      ],
      "source": [
        "import random\n",
        "#Imports random so we can make a random number.\n",
        "rnum = random.randrange(0,100,1)\n",
        "#creates the range of 0-100, with only multiples of 1.\n",
        "guess = int(input(\"guess a number 1-100: \"))\n",
        "# defines guess as the user's input/guess.\n",
        "while rnum != guess:\n",
        "  #creates a while loop for when the random number (rnum) doesn't equal the users guess.\n",
        "  if guess > rnum:\n",
        "    guess = int(input(\"too high. try again: \"))\n",
        "    #if the guess is larger than rnum, the guess will be printed as \"too high. try again: \", and ask for another guess/try.\n",
        "  else:\n",
        "    guess = int(input(\"too low. try again: \"))\n",
        "  #if the guess is less than rnum (else:), the code will print the same as the \"too high\" outcome, but as \"too low\".\n",
        "if guess == rnum:\n",
        "  print(\"The number was: \", rnum)\n",
        "  print(\"you guessed correctly. hooray.\")\n",
        "#if the users guess is rnum, then the code will print out rnum, and give them a messeg to let them know they've won."
      ]
    }
  ]
}