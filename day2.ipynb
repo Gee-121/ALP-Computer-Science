{
  "nbformat": 4,
  "nbformat_minor": 0,
  "metadata": {
    "colab": {
      "provenance": [],
      "collapsed_sections": [
        "en-1a1ADx3zt",
        "HzT_V6GKx8r0",
        "U2rAB7wnzmNt",
        "leLeMY4Z3lri",
        "8EEG1bYC8nTB",
        "g03u0zeBCAt2",
        "Rei1_7KIHmYV"
      ],
      "authorship_tag": "ABX9TyOgoc8r8umaf4Z1XKrzF7mB",
      "include_colab_link": true
    },
    "kernelspec": {
      "name": "python3",
      "display_name": "Python 3"
    },
    "language_info": {
      "name": "python"
    }
  },
  "cells": [
    {
      "cell_type": "markdown",
      "metadata": {
        "id": "view-in-github",
        "colab_type": "text"
      },
      "source": [
        "<a href=\"https://colab.research.google.com/github/Gee-121/ALP-Computer-Science/blob/main/day2.ipynb\" target=\"_parent\"><img src=\"https://colab.research.google.com/assets/colab-badge.svg\" alt=\"Open In Colab\"/></a>"
      ]
    },
    {
      "cell_type": "markdown",
      "source": [
        "#messing around and warming up"
      ],
      "metadata": {
        "id": "en-1a1ADx3zt"
      }
    },
    {
      "cell_type": "code",
      "execution_count": null,
      "metadata": {
        "colab": {
          "base_uri": "https://localhost:8080/"
        },
        "id": "LZ1cqUkDwi9G",
        "outputId": "47af3d54-0b3e-40e8-86ee-39a97c8eff0f"
      },
      "outputs": [
        {
          "output_type": "stream",
          "name": "stdout",
          "text": [
            "100\n"
          ]
        }
      ],
      "source": [
        "import time\n",
        "counter = 0\n",
        "while counter < 100:\n",
        "  counter +=\n",
        "  counter *=10\n",
        "  print(counter)"
      ]
    },
    {
      "cell_type": "markdown",
      "source": [
        "#Iteration with a counter\n",
        "####Counts to 100 with while loop, if statement, and counter."
      ],
      "metadata": {
        "id": "HzT_V6GKx8r0"
      }
    },
    {
      "cell_type": "code",
      "source": [
        "import time\n",
        "counter = 0\n",
        "print(\"let's count to 100.\")\n",
        "time.sleep(3)\n",
        "print(\" \")\n",
        "while counter < 90:\n",
        "  counter +=10\n",
        "  print(counter)\n",
        "  print(\"still not at 100 yet\")\n",
        "  print(\" \")\n",
        "  time.sleep(1)\n",
        "  if counter == 90:\n",
        "    print(\"100\")\n",
        "    print(\"you reached 100. hooray.\")"
      ],
      "metadata": {
        "colab": {
          "base_uri": "https://localhost:8080/"
        },
        "collapsed": true,
        "id": "xFtCsx_Qx-9T",
        "outputId": "87bc6fde-4518-4f7a-fb43-37eadfa86a4b"
      },
      "execution_count": 27,
      "outputs": [
        {
          "output_type": "stream",
          "name": "stdout",
          "text": [
            "let's count to 100.\n",
            " \n",
            "10\n",
            "still not at 100 yet\n",
            " \n",
            "20\n",
            "still not at 100 yet\n",
            " \n",
            "30\n",
            "still not at 100 yet\n",
            " \n",
            "40\n",
            "still not at 100 yet\n",
            " \n",
            "50\n",
            "still not at 100 yet\n",
            " \n",
            "60\n",
            "still not at 100 yet\n",
            " \n",
            "70\n",
            "still not at 100 yet\n",
            " \n",
            "80\n",
            "still not at 100 yet\n",
            " \n",
            "90\n",
            "still not at 100 yet\n",
            " \n",
            "100\n",
            "you reached 100. hooray.\n"
          ]
        }
      ]
    },
    {
      "cell_type": "markdown",
      "source": [
        "#Task 2 \"Blast Off\" countdown\n",
        "###Counts down, with user input aswell"
      ],
      "metadata": {
        "id": "U2rAB7wnzmNt"
      }
    },
    {
      "cell_type": "code",
      "source": [
        "import time\n",
        "counter = int(input(\"place a number to countdown from for takeoff: \"))\n",
        "#lets the user input from where to countdown from\n",
        "\n",
        "print(\"ready for launch.\")\n",
        "time.sleep(3)\n",
        "print(\" \")\n",
        "print(counter)\n",
        "#prints the counter so the countdown doesn't seem to start from the number below but rather itself\n",
        "\n",
        "print(\" \")\n",
        "time.sleep(1.25)\n",
        "while counter > 1:\n",
        "  counter -=1\n",
        "  print(counter)\n",
        "  print(\" \")\n",
        "  time.sleep(1.25)\n",
        "#loops a code that prints the counter - 1, with spaces inbetween and pauses for extra little suspense\n",
        "\n",
        "print(\"blastoff.\")\n",
        "time.sleep(3)\n",
        "print(\"you reached the moon, hooray.\")\n",
        "#once the counter reaches one, instead of the loop stopping, it will end the loop, then print \"blastoff\" and the rest of the code after it"
      ],
      "metadata": {
        "colab": {
          "base_uri": "https://localhost:8080/"
        },
        "collapsed": true,
        "id": "AHeMdwXxzr25",
        "outputId": "eaa74546-c558-47f2-8840-4d9fdbb59ff0"
      },
      "execution_count": 28,
      "outputs": [
        {
          "output_type": "stream",
          "name": "stdout",
          "text": [
            "place a number to countdown from for takeoff: 10\n",
            "ready for launch.\n",
            " \n",
            "10\n",
            " \n",
            "9\n",
            " \n",
            "8\n",
            " \n",
            "7\n",
            " \n",
            "6\n",
            " \n",
            "5\n",
            " \n",
            "4\n",
            " \n",
            "3\n",
            " \n",
            "2\n",
            " \n",
            "1\n",
            " \n",
            "blastoff.\n",
            "you reached the moon, hooray.\n"
          ]
        }
      ]
    },
    {
      "cell_type": "markdown",
      "source": [
        "#Username and password"
      ],
      "metadata": {
        "id": "leLeMY4Z3lri"
      }
    },
    {
      "cell_type": "code",
      "source": [
        "import time\n",
        "\n",
        "name = \"gianmarck\"\n",
        "nameguess = input(\"enter your name to enter: \")\n",
        "print(\" \")\n",
        "while nameguess != name:\n",
        "  namguess = input(\"wrong name. try again: \")\n",
        "\n",
        "password = \"bumm34\"\n",
        "passguess = input(\"enter your password: \")\n",
        "print(\" \")\n",
        "while passguess != password:\n",
        "  passguess = input(\"wrong password. try again\")\n",
        "\n",
        "print(\"welcome \", nameguess)\n",
        "time.sleep (2)\n",
        "print(\" \")\n",
        "\n",
        "newpass = input(\"your security sucks honestly, enter a new password: \")\n",
        "print (\" \")\n",
        "confirm = input(\"enter the new password again to confirm: \")\n",
        "while confirm != newpass:\n",
        "  print(\" \")\n",
        "  confirm = input(\"inccorrect confirmation, try again: \")\n",
        "print (\" \")\n",
        "print(\"we will now log you out to try the new password\")\n",
        "print(\" \")\n",
        "time.sleep(3)\n",
        "\n",
        "nameguess = input(\"enter your name to enter: \")\n",
        "print(\" \")\n",
        "while nameguess != name:\n",
        "  namguess = input(\"wrong name. try again: \")\n",
        "\n",
        "password = newpass\n",
        "passguess = input(\"enter your password: \")\n",
        "print(\" \")\n",
        "while passguess != password:\n",
        "  passguess = input(\"wrong password. try again\")\n",
        "\n",
        "print(\"welcome back, \", nameguess)"
      ],
      "metadata": {
        "colab": {
          "base_uri": "https://localhost:8080/"
        },
        "id": "eU5WE7OZ3szx",
        "outputId": "de2d5c08-0db1-41e0-d8a3-1990d159412f"
      },
      "execution_count": null,
      "outputs": [
        {
          "output_type": "stream",
          "name": "stdout",
          "text": [
            "enter your name to enter: gianmarck\n",
            " \n",
            "enter your password: bumm34\n",
            " \n",
            "welcome  gianmarck\n",
            " \n",
            "your security sucks honestly, enter a new password: hum\n",
            " \n",
            "enter the new password again to confirm: hug\n",
            "inccorrect confirmation, try again: hum\n",
            " \n",
            "we will now log you out to try the new password\n",
            " \n",
            "enter your name to enter: gianmarck\n",
            " \n",
            "enter your password: hum\n",
            " \n",
            "welcome back,  gianmarck\n"
          ]
        }
      ]
    },
    {
      "cell_type": "markdown",
      "source": [
        "#Lists"
      ],
      "metadata": {
        "id": "8EEG1bYC8nTB"
      }
    },
    {
      "cell_type": "code",
      "source": [
        "players = [\"mary\", \"sean\", \"atif\", \"ali\", \"eli\", \"scott\"]\n",
        "#counting in coding always starts at 0\n",
        "print(players[2])\n",
        "print(players[5])\n",
        "print(players[0])\n",
        "print(players[1], \" and \", players[3])\n",
        "print(players[4])\n",
        "#prints each player and a group of 2\n",
        "print(\" \")\n",
        "print(\"full list: \")\n",
        "print(players)\n",
        "print(\" \")\n",
        "#prints the list of players\n",
        "\n",
        "print(players[int(input(\"enter a number 0-5: \"))])\n",
        "#prints whichever number player is inputed"
      ],
      "metadata": {
        "colab": {
          "base_uri": "https://localhost:8080/"
        },
        "id": "gU_QnSLO8pTS",
        "outputId": "0fb69650-95ee-4260-f08e-b891446fe302"
      },
      "execution_count": null,
      "outputs": [
        {
          "output_type": "stream",
          "name": "stdout",
          "text": [
            "atif\n",
            "scott\n",
            "mary\n",
            "sean  and  ali\n",
            "eli\n",
            " \n",
            "full list: \n",
            "['mary', 'sean', 'atif', 'ali', 'eli', 'scott']\n",
            " \n",
            "enter a number 0-5: 4\n",
            "eli\n"
          ]
        }
      ]
    },
    {
      "cell_type": "code",
      "source": [
        "food = [\"bacon\", \"cheese\", \"pasta\", \"beans\"]\n",
        "#creates a list of food\n",
        "food.append(\"tomatoes\")\n",
        "#adds tomatoes to the end of the list\n",
        "food.insert(1, \"ice cream\")\n",
        "#moves everything past 1 up a number, and makes ice cream 1\n",
        "food.remove(\"cheese\")\n",
        "#removes cheese from the list\n",
        "food.pop()\n",
        "#removes last item on list, at this point being tomatoes\n",
        "print(food)\n",
        "#list ends as \"bacon, ice cream, pasta, beans\""
      ],
      "metadata": {
        "colab": {
          "base_uri": "https://localhost:8080/"
        },
        "id": "fomNeNKxAaLB",
        "outputId": "c074ffb8-6cd4-4b1e-bc3f-2238ed21c7c7"
      },
      "execution_count": null,
      "outputs": [
        {
          "output_type": "stream",
          "name": "stdout",
          "text": [
            "['bacon', 'ice cream', 'pasta', 'beans']\n"
          ]
        }
      ]
    },
    {
      "cell_type": "markdown",
      "source": [
        "#Beat the zombies"
      ],
      "metadata": {
        "id": "g03u0zeBCAt2"
      }
    },
    {
      "cell_type": "code",
      "source": [
        "health = 10\n",
        "\n",
        "weapons = [\"machete\", \"bat\", \"chainsaw\", \"gun\",]\n",
        "\n",
        "print(\"you have encountered a zombie!\")\n",
        "print(\" \")\n",
        "print(\"your weapon choices are: \", weapons, \" or you can use a small knife, but it's risky\")\n",
        "print(\"reminder: you have \", health, \" health.\")\n",
        "option2 = input(\"would you like to use the kinfe?: \")\n",
        "print(\" \")\n",
        "\n",
        "if option2 == \"no\":\n",
        "  wepchoice = int(input(\"choose a weapon from the list to beat the zombies, counting 0-4: \"))\n",
        "  zomweakness = 4\n",
        "  playdis = 2\n",
        "  print(\" \")\n",
        "  if wepchoice == 4:\n",
        "    weapons.remove(\"gun\")\n",
        "    print(\"you shot it in the head and it died immedietly.\")\n",
        "    print(\"hooray, you get to live another day, but you no longer have ammo and leave the gun.\")\n",
        "  elif wepchoice == 2:\n",
        "    print(\"the chainsaw was heavy and took too long to start up, the zombie got to you and you died.\")\n",
        "    print(\"the end.\")\n",
        "  else:\n",
        "    print(\"it took you a couple hits, but you survived, with minor injuries.\")\n",
        "    health -=2\n",
        "    print(health, \" health remaining.\")\n",
        "elif option2 == \"yes\":\n",
        "  health -=4\n",
        "  print(\"you stab the zombie to death but lose a lot of health, you should heal soon enough.\")\n",
        "  print(health, \" health remaining.\")\n",
        "\n"
      ],
      "metadata": {
        "colab": {
          "base_uri": "https://localhost:8080/"
        },
        "id": "09rmbuw9CC6v",
        "outputId": "d0fd9486-5e38-451d-9fac-a642aaebbb87"
      },
      "execution_count": 29,
      "outputs": [
        {
          "output_type": "stream",
          "name": "stdout",
          "text": [
            "you have encountered a zombie!\n",
            " \n",
            "your weapon choices are:  ['machete', 'bat', 'chainsaw', 'gun']  or you can use a small knife, but it's risky\n",
            "reminder: you have  10  health.\n",
            "would you like to use the kinfe?: no\n",
            " \n",
            "choose a weapon from the list to beat the zombies, counting 0-4: 2\n",
            " \n",
            "the chainsaw was heavy and took too long to start up, the zombie got to you and you died.\n",
            "the end.\n"
          ]
        }
      ]
    },
    {
      "cell_type": "markdown",
      "source": [
        "#Functions\n",
        "###Using functions to make a calculator"
      ],
      "metadata": {
        "id": "Rei1_7KIHmYV"
      }
    },
    {
      "cell_type": "code",
      "source": [
        "def subtract(num1, num2):\n",
        "  answer = num1-num2\n",
        "  return answer\n",
        "def add(num1, num2):\n",
        "  answer = num1+num2\n",
        "  return answer\n",
        "def multiply(num1, num2):\n",
        "  answer = num1*num2\n",
        "  return answer\n",
        "def divide(num1, num2):\n",
        "  answer = num1/num2\n",
        "  return answer\n",
        "\n",
        "equat = [\"(0)+\", \"(1)-\", \"(2)*\", \"(3)/\"]\n",
        "#lists start with 0\n",
        "print(equat)\n",
        "print(\"these are the equations and their numbers\")\n",
        "print(\" \")\n",
        "option = int(input(\"what kind of equation do you want to solve, pick 0-3: \"))\n",
        "if option == 1:\n",
        "  print(\" \")\n",
        "  print(\"subtraction\")\n",
        "  num1=int(input(\"enter number1: \"))\n",
        "  num2=int(input(\"enter number2: \"))\n",
        "  print(num1,\"-\",num2,\"=\", subtract(num1,num2))\n",
        "if option == 0:\n",
        "  print(\" \")\n",
        "  print(\"addition\")\n",
        "  num1=int(input(\"enter number1: \"))\n",
        "  num2=int(input(\"enter number2: \"))\n",
        "  print(num1,\"+\",num2,\"=\", add(num1,num2))\n",
        "if option == 2:\n",
        "  print(\" \")\n",
        "  print(\"multiplication\")\n",
        "  num1=int(input(\"enter number1: \"))\n",
        "  num2=int(input(\"enter number2: \"))\n",
        "  print(num1,\"*\",num2,\"=\", multiply(num1,num2))\n",
        "if option == 3:\n",
        "  print(\" \")\n",
        "  print(\"division\")\n",
        "  num1=int(input(\"enter number1: \"))\n",
        "  num2=int(input(\"enter number2: \"))\n",
        "  print(num1,\"/\",num2,\"=\", divide(num1,num2))"
      ],
      "metadata": {
        "colab": {
          "base_uri": "https://localhost:8080/"
        },
        "id": "wUbkUt4mHq0g",
        "outputId": "49c4b21e-792f-4ac9-8729-9597f01d4f17"
      },
      "execution_count": 30,
      "outputs": [
        {
          "output_type": "stream",
          "name": "stdout",
          "text": [
            "['(0)+', '(1)-', '(2)*', '(3)/']\n",
            "these are the equations and their numbers\n",
            " \n",
            "what kind of equation do you want to solve, pick 0-3: 2\n",
            " \n",
            "multiplication\n",
            "enter number1: 3\n",
            "enter number2: 48\n",
            "3 * 48 = 144\n"
          ]
        }
      ]
    },
    {
      "cell_type": "code",
      "source": [
        "from google.colab import drive\n",
        "drive.mount('/content/drive')"
      ],
      "metadata": {
        "id": "lXTc2IZYnpXE"
      },
      "execution_count": null,
      "outputs": []
    },
    {
      "cell_type": "markdown",
      "source": [
        "#Read all from a file"
      ],
      "metadata": {
        "id": "ACGaokPDPyil"
      }
    },
    {
      "cell_type": "code",
      "source": [
        "myFile = open(\"test.txt\", \"r\")\n",
        "\n",
        "for line in myFile:\n",
        "  print(line)\n",
        "myFile.close()"
      ],
      "metadata": {
        "id": "ucNmUEy5PzHC",
        "colab": {
          "base_uri": "https://localhost:8080/"
        },
        "outputId": "953d9dea-1a4c-41f2-c078-f65d16c6903f"
      },
      "execution_count": null,
      "outputs": [
        {
          "output_type": "stream",
          "name": "stdout",
          "text": [
            "{\\rtf1\\ansi\\ansicpg1252\\cocoartf1671\\cocoasubrtf600\n",
            "\n",
            "{\\fonttbl\\f0\\fswiss\\fcharset0 Helvetica;}\n",
            "\n",
            "{\\colortbl;\\red255\\green255\\blue255;}\n",
            "\n",
            "{\\*\\expandedcolortbl;;}\n",
            "\n",
            "\\margl1440\\margr1440\\vieww10800\\viewh8400\\viewkind0\n",
            "\n",
            "\\pard\\tx720\\tx1440\\tx2160\\tx2880\\tx3600\\tx4320\\tx5040\\tx5760\\tx6480\\tx7200\\tx7920\\tx8640\\pardirnatural\\partightenfactor0\n",
            "\n",
            "\n",
            "\n",
            "\\f0\\fs24 \\cf0 test}\n"
          ]
        }
      ]
    },
    {
      "cell_type": "code",
      "source": [
        "myFile = open(\"test.txt\", \"w\")\n",
        "myFile.write(\"Hello world. If you are reading this, then the code works, the text in the .txt file is able to be edited.\")\n",
        "myFile.close()"
      ],
      "metadata": {
        "id": "wNJ7zbN2qrNb"
      },
      "execution_count": null,
      "outputs": []
    },
    {
      "cell_type": "code",
      "source": [
        "import time\n",
        "yesno = input(\"You want to see something cool? \")\n",
        "if yesno == \"yes\":\n",
        "  time.sleep(2)\n",
        "  confirm = input(\"You see the test.txt file in your file button on the left? \")\n",
        "  if confirm == \"yes\":\n",
        "    myFile = open(\"test.txt\", \"w\")\n",
        "    myFile.write(\"Hello there, if you are reading this text, my magic worked, and so did the code.\")\n",
        "    print(\"I can write something in it. matter of fact I just did. look in it, double click it.\")\n",
        "    time.sleep(6)\n",
        "    print(\"cool right, well that's it, outta here now.\")\n",
        "    myFile.close()\n",
        "  else:\n",
        "    time.sleep(2)\n",
        "    print(\"Then get it there and come back later, otherwise my cool thing can't happen, make sure it's called test.txt, even if you hsve to rename it.\")\n",
        "else:\n",
        "  print(\"Then why are you here, get out, close this program, scram.\")"
      ],
      "metadata": {
        "colab": {
          "base_uri": "https://localhost:8080/"
        },
        "id": "qaUWfU8crsGd",
        "outputId": "dd73ead9-7378-41e5-cb80-7a667652b856"
      },
      "execution_count": null,
      "outputs": [
        {
          "output_type": "stream",
          "name": "stdout",
          "text": [
            "You want to see something cool? yes\n",
            "You see the test.txt file in your file button on the left? no\n",
            "Then get it there and come back later, otherwise my cool thing can't happen, make sure it's called test.txt, even if you rename it.\n"
          ]
        }
      ]
    },
    {
      "cell_type": "code",
      "source": [
        "#doesn't seem to work but can't fix it right now, was just messing around\n",
        "def mango(words):\n",
        "  myFile = open(\"test.txt\", \"m\")\n",
        "  for i in range (50):\n",
        "    myFile.write(\"mango\")\n",
        "    myFile.write(\" \")\n",
        "  myFile.close\n",
        "\n",
        "print(\"hello, check your test.txt file)\")\n",
        "print(\"mango\")"
      ],
      "metadata": {
        "colab": {
          "base_uri": "https://localhost:8080/"
        },
        "id": "ZyGDEmZtwmvR",
        "outputId": "e7094fba-f201-4524-c660-517b8b3b7ca8"
      },
      "execution_count": null,
      "outputs": [
        {
          "output_type": "stream",
          "name": "stdout",
          "text": [
            "hello, check your test.txt file)\n",
            "mango\n"
          ]
        }
      ]
    },
    {
      "cell_type": "markdown",
      "source": [
        "#Homework"
      ],
      "metadata": {
        "id": "BXUwoaHzCY1c"
      }
    },
    {
      "cell_type": "code",
      "source": [
        "#list task 1\n",
        "nameslist = [\"Gianmarck\", \"Scott\", \"Sam\", \"Hailey\", \"Anna\"]\n",
        "#creates a list of names under a variable/list\n",
        "nameslist[1] = \"Bumm\"\n",
        "nameslist[3] = \"Gug\"\n",
        "nameslist[0] = \"Tamale\"\n",
        "#changes the names that correspond to each number (gianmarck = 0, scott = 1, sam = 2, etc.)\n",
        "print(nameslist)\n",
        "#prints the whole list out, in the way that it is now, it should read currently \"tamale, bumm, sam, gug, anna\""
      ],
      "metadata": {
        "colab": {
          "base_uri": "https://localhost:8080/"
        },
        "id": "0KMnr-4_CaW_",
        "outputId": "758d7603-c4ce-4631-e6f2-240616cd576d"
      },
      "execution_count": 21,
      "outputs": [
        {
          "output_type": "stream",
          "name": "stdout",
          "text": [
            "['Tamale', 'Bumm', 'Sam', 'Gug', 'Anna']\n"
          ]
        }
      ]
    },
    {
      "cell_type": "code",
      "source": [
        "#list task 2\n",
        "numbers = [1, 4, 8, 34, 23, 2]\n",
        "#creates a list of numbers\n",
        "numbers[4] = 63\n",
        "numbers[2] +=36\n",
        "total = numbers[4] - numbers[3]\n",
        "#changes number4 to 63, adds 36 to number2, and makes a total variiable that equal to number4(63) - number3(34)\n",
        "print(\"full number list updated: \", numbers)\n",
        "#prints the whole list which will now read \"1, 4, 44, 34, 63, 2\""
      ],
      "metadata": {
        "colab": {
          "base_uri": "https://localhost:8080/"
        },
        "id": "lzv3e7w2Dk5i",
        "outputId": "51c2456c-0813-43bf-e3f6-08f8756660d6"
      },
      "execution_count": 26,
      "outputs": [
        {
          "output_type": "stream",
          "name": "stdout",
          "text": [
            "full number list updated:  [1, 4, 44, 34, 63, 2]\n"
          ]
        }
      ]
    }
  ]
}